{
 "cells": [
  {
   "cell_type": "markdown",
   "metadata": {},
   "source": [
    "Determination of partial contributions of hadrons\n",
    "-------------------------------------------------\n",
    "\n",
    "This notebook reproduces Figure 9 from the proceedings arXiv:1503.00544.  "
   ]
  },
  {
   "cell_type": "code",
   "execution_count": 1,
   "metadata": {
    "collapsed": false
   },
   "outputs": [],
   "source": [
    "#basic imports and ipython setup\n",
    "%load_ext autoreload\n",
    "%matplotlib inline\n",
    "%autoreload 2\n",
    "import os\n",
    "import matplotlib.pyplot as plt\n",
    "import numpy as np\n",
    "os.chdir('..')\n",
    "\n",
    "#import solver related modules\n",
    "from MCEq.core import MCEqRun\n",
    "from mceq_config import config\n",
    "#import primary model choices\n",
    "import CRFluxModels as pm"
   ]
  },
  {
   "cell_type": "code",
   "execution_count": 9,
   "metadata": {
    "collapsed": false
   },
   "outputs": [
    {
     "name": "stdout",
     "output_type": "stream",
     "text": [
      "('w', array([  1.52021757e+01,   1.98242986e+01,   2.58517480e+01,\n",
      "         3.37118043e+01,   4.39616597e+01,   5.73279172e+01,\n",
      "         7.47580986e+01,   9.74878135e+01,   1.27128351e+02,\n",
      "         1.65780901e+02,   2.16185509e+02,   2.81915311e+02,\n",
      "         3.67629832e+02,   4.79405298e+02,   6.25165370e+02,\n",
      "         8.15242845e+02,   1.06311214e+03,   1.38634450e+03,\n",
      "         1.80785355e+03,   2.35751969e+03,   3.07430826e+03,\n",
      "         4.00903175e+03,   5.22795185e+03,   6.81747670e+03,\n",
      "         8.89028627e+03,   1.15933201e+04,   1.51181939e+04,\n",
      "         1.97147827e+04,   2.57089346e+04,   3.35255693e+04,\n",
      "         4.37188012e+04,   5.70112192e+04,   7.43451106e+04,\n",
      "         9.69492592e+04,   1.26426053e+05,   1.64865074e+05,\n",
      "         2.14991230e+05,   2.80357919e+05,   3.65598926e+05,\n",
      "         4.76756908e+05,   6.21711754e+05,   8.10739180e+05,\n",
      "         1.05723917e+06,   1.37868588e+06,   1.79786638e+06,\n",
      "         2.34449599e+06,   3.05732479e+06,   3.98688456e+06,\n",
      "         5.19907095e+06,   6.77981475e+06,   8.84117345e+06,\n",
      "         1.15292749e+07,   1.50346761e+07,   1.96058719e+07,\n",
      "         2.55669101e+07,   3.33403632e+07,   4.34772844e+07,\n",
      "         5.66962707e+07,   7.39344041e+07,   9.64136801e+07,\n",
      "         1.25727634e+08,   1.63954306e+08,   2.13803549e+08,\n",
      "         2.78809131e+08,   3.63579239e+08,   4.74123149e+08,\n",
      "         6.18277217e+08,   8.06260394e+08,   1.05139864e+09,\n",
      "         1.37106957e+09,   1.78793438e+09,   2.33154423e+09]))\n",
      "\n",
      "Hadrons:\n",
      "\n",
      "\"p-bar\", \"p\", \"n-bar\", \"n\", \"pi+\", \"pi-\", \"K0L\", \"K+\", \n",
      "\"K-\"\n",
      "\n",
      "Mixed:\n",
      "\n",
      "\"Lambda0-bar\", \"Lambda0\", \"Xi0-bar\", \"Xi0\", \"K0S\", \"Xi--bar\", \"Xi-\", \"Sigma--bar\", \n",
      "\"Sigma-\", \"Sigma+-bar\", \"Sigma+\", \"Omega--bar\", \"Omega-\", \"D+\", \"D-\", \"Ds+\", \n",
      "\"Ds-\", \"D0\", \"D0-bar\", \"XiC+-bar\", \"XiC+\", \"tau+\", \"tau-\", \"LambdaC+-bar\", \n",
      "\"LambdaC+\", \"XiC0-bar\", \"XiC0\", \"OmegaC0-bar\", \"OmegaC0\", \"pi0\"\n",
      "\n",
      "Resonances:\n",
      "\n",
      "\"eta\", \"Sigma0-bar\", \"Sigma0\", \"D*+\", \"D*-\", \"eta*\", \"jpsi\", \"phi\", \n",
      "\"SigmaC0-bar\", \"SigmaC0\", \"SigmaC+-bar\", \"SigmaC+\", \"SigmaC++-bar\", \"SigmaC++\", \"omega\", \"Xi*0-bar\", \n",
      "\"Xi*0\", \"Xi*--bar\", \"Xi*-\", \"SigmaC*0-bar\", \"SigmaC*0\", \"SigmaC*++-bar\", \"SigmaC*++\", \"SigmaC*+-bar\", \n",
      "\"SigmaC*+\", \"K*0\", \"K*0-bar\", \"K*+\", \"K*-\", \"Sigma*+-bar\", \"Sigma*+\", \"Sigma*0-bar\", \n",
      "\"Sigma*0\", \"Sigma*--bar\", \"Sigma*-\", \"etaC\", \"rho+\", \"rho-\", \"rho0\", \"Delta--bar\", \n",
      "\"Delta0-bar\", \"Delta+-bar\", \"Delta++-bar\", \"Delta++\", \"Delta+\", \"Delta0\", \"Delta-\", \"D*0\", \n",
      "\"D*0-bar\", \"XiC*0-bar\", \"XiC*+-bar\", \"XiC*+\", \"XiC*0\", \"Ds*+\", \"Ds*-\"\n",
      "\n",
      "Leptons:\n",
      "\n",
      "\"nue\", \"numu\", \"nutau\", \"antinue\", \"antinumu\", \"antinutau\", \"mu-\", \"mu+\"\n",
      "\n",
      "Aliases:\n",
      "\"pr_nue\", \"pr_numu\", \"pr_nutau\", \"pi_nue\", \"pi_numu\", \"pi_nutau\", \"k_nue\", \"k_numu\", \n",
      "\"k_nutau\", \"obs_nue\", \"obs_numu\", \"obs_nutau\", \"pr_antinue\", \"pr_antinumu\", \"pr_antinutau\", \"pi_antinue\", \n",
      "\"pi_antinumu\", \"pi_antinutau\", \"k_antinue\", \"k_antinumu\", \"k_antinutau\", \"obs_antinue\", \"obs_antinumu\", \"obs_antinutau\", \n",
      "\"pr_mu-\", \"pi_mu-\", \"k_mu-\", \"obs_mu-\", \"pr_mu+\", \"pi_mu+\", \"k_mu+\", \"obs_mu+\"\n",
      "\n",
      "Total number of species: 79\n",
      "MCEqRun::set_interaction_model():  SIBYLL2.3_rc1\n",
      "InteractionYields:set_interaction_model():: Model SIBYLL2.3_rc1 already loaded.\n",
      "MCEqRun::_init_default_matrices():Start filling matrices.\n",
      "MCEqRun::_convert_to_sparse():Converting to sparse (CSR) matrix format.\n",
      "C Matrix info:\n",
      "    density    : 7.3207942769e-07\n",
      "    shape      : (5688, 5688)\n",
      "    nnz        : 1365972\n",
      "D Matrix info:\n",
      "    density    : 3.44702780028e-06\n",
      "    shape      : (5688, 5688)\n",
      "    nnz        : 290105\n",
      "MCEqRun::_init_default_matrices():Done filling matrices.\n",
      "MCEqRun::set_atm_model():  CORSIKA BK_USStd None\n",
      "MCEqRun::set_theta_deg():  0.0\n",
      "atmospheres::_load_cache(): loading cache.\n",
      "MCEqRun::set_primary_model():  HillasGaisser2012 H3a\n"
     ]
    }
   ],
   "source": [
    "mceq_run = MCEqRun(\n",
    "#provide the string of the interaction model\n",
    "interaction_model='SIBYLL2.3_rc1',\n",
    "#primary cosmic ray flux model\n",
    "#support a tuple (primary model class (not instance!), arguments)\n",
    "primary_model=(pm.HillasGaisser2012, \"H3a\"),#(pm.Thunman, None),\n",
    "# Zenith angle in degrees. 0=vertical, 90=horizontal\n",
    "theta_deg=0.0,\n",
    "#expand the rest of the options from mceq_config.py\n",
    "**config\n",
    ")"
   ]
  },
  {
   "cell_type": "code",
   "execution_count": 10,
   "metadata": {
    "collapsed": false
   },
   "outputs": [],
   "source": [
    "res_groups = [\n",
    "    ([\"D+\", \"D-\", \"D0\", \"D0-bar\", \"D*+\", \"D*-\", \"D*0\", \"D*0-bar\"], r\"$D^\\pm + D^0$\"),\n",
    "    ([\"Ds+\", \"Ds-\"], r\"$D_s$\"),\n",
    "    ([\"K0S\"], r\"$K^0_s$\"),\n",
    "    ([\"K0L\"], r\"$K^0_L$\"),\n",
    "    ([\"LambdaC+\", \"LambdaC+-bar\"], r'$\\Lambda_C$'),\n",
    "    ([\"OmegaC0\", \"OmegaC0-bar\", \"XiC+\", \n",
    "      \"XiC+-bar\", \"XiC0\", \"XiC0-bar\", \n",
    "      \"SigmaC*+\", \"SigmaC*++\", \"tau+\", \"tau-\", \n",
    "      \"SigmaC*++-bar\", \"SigmaC*+-bar\", \"SigmaC*0\", \n",
    "      \"SigmaC*0-bar\", \"SigmaC+\", \"SigmaC++\", \n",
    "      \"SigmaC++-bar\", \"SigmaC+-bar\", \"SigmaC0\", \n",
    "      \"SigmaC0-bar\"], r\"other prompt\"),\n",
    "    ([\"K0S\", \"K0L\", \"n\", \"n-bar\", \"p\", \"p-bar\", \n",
    "      \"Lambda0\", \"Lambda0-bar\", \"Sigma-\", \n",
    "      \"Sigma--bar\", \"Xi-\", \"Xi--bar\", \"Xi0\", \n",
    "      \"Xi0-bar\", \"Delta-\", \"Delta--bar\", \"Delta0\", \n",
    "      \"Delta0-bar\", \"K*+\", \"K*-\", \"K*0\", \"K*0-bar\", \n",
    "      \"Omega-\", \"Omega--bar\", \"Sigma*+\", \"Sigma*+-bar\", \n",
    "      \"Sigma*-\", \"Sigma*--bar\", \"Sigma*0\", \"Sigma*0-bar\", \n",
    "      \"Sigma+\", \"Sigma+-bar\", \"Sigma0\", \"Sigma0-bar\", \n",
    "      \"Delta+\", \"Delta++\", \"Delta++-bar\", \"Delta+-bar\", \n",
    "      \"Xi*-\", \"Xi*--bar\", \"Xi*0\", \"Xi*0-bar\"],r\"other conv. mu\"),\n",
    "    ([\"K0S\", \"K0L\", \"n\", \"n-bar\", \"p\", \"p-bar\", \n",
    "      \"Lambda0\", \"Lambda0-bar\", \"Sigma-\", \"Sigma--bar\", \n",
    "      \"Xi-\", \"Xi--bar\", \"Xi0\", \"Xi0-bar\", \"Delta-\", \n",
    "      \"Delta--bar\", \"Delta0\", \"Delta0-bar\", \"K*+\", \n",
    "      \"K*-\", \"K*0\", \"K*0-bar\", \"Omega-\", \"Omega--bar\", \n",
    "      \"Sigma*+\", \"Sigma*+-bar\", \"Sigma*-\", \"Sigma*--bar\", \n",
    "      \"Sigma*0\", \"Sigma*0-bar\", \"Sigma+\", \"Sigma+-bar\", \n",
    "      \"Sigma0\", \"Sigma0-bar\", \"Delta+\", \"Delta++\", \n",
    "      \"Delta++-bar\", \"Delta+-bar\", \"Xi*-\", \"Xi*--bar\", \n",
    "      \"Xi*0\", \"Xi*0-bar\", \"eta\", \"eta*\", \"omega\", \n",
    "      \"phi\", \"pi0\", \"rho+\", \"rho-\", \"rho0\"],r\"other conv. numu\"),\n",
    "    ([\"n\", \"n-bar\", \"p\", \"p-bar\", \"Lambda0\", \n",
    "      \"Lambda0-bar\", \"Sigma-\", \"Sigma--bar\", \n",
    "      \"Xi-\", \"Xi--bar\", \"Xi0\", \"Xi0-bar\", \"Delta-\", \n",
    "      \"Delta--bar\", \"Delta0\", \"Delta0-bar\", \n",
    "      \"K*+\", \"K*-\", \"K*0\", \"K*0-bar\", \"Omega-\", \n",
    "      \"Omega--bar\", \"Sigma*+\", \"Sigma*+-bar\", \"Sigma*-\", \n",
    "      \"Sigma*--bar\", \"Sigma*0\", \"Sigma*0-bar\", \"Sigma+\", \n",
    "      \"Sigma+-bar\", \"Sigma0\", \"Sigma0-bar\", \"Delta+\", \n",
    "      \"Delta++\", \"Delta++-bar\", \"Delta+-bar\", \"Xi*-\", \n",
    "      \"Xi*--bar\", \"Xi*0\", \"Xi*0-bar\", \"eta\", \"eta*\", \n",
    "      \"omega\", \"phi\", \"pi0\", \"rho+\", \"rho-\", \"rho0\"],r\"other conv. nue\"),\n",
    "    ([\"eta\", \"eta*\", \"omega\", \"phi\", \n",
    "      \"pi0\", \"rho+\", \"rho-\", \"rho0\",\n",
    "      \"etaC\", \"jpsi\"], r\"unflavored\"),\n",
    "    ([\"tau+\",\"tau-\"], r\"tau decay\"),\n",
    "    ([\"mu+\", \"mu-\", \"pi_mu+\", \"pi_mu-\", \n",
    "      \"k_mu+\", \"k_mu-\", \"pr_mu+\", \"pr_mu-\"], r\"$\\mu$ decay\")]\n",
    "\n",
    "color_spectrum = ['b', 'r', 'g', 'orange', 'cyan', 'violet',\n",
    "                  'brown', 'pink', 'yellow', 'lightblue']"
   ]
  },
  {
   "cell_type": "code",
   "execution_count": 11,
   "metadata": {
    "collapsed": false
   },
   "outputs": [
    {
     "name": "stdout",
     "output_type": "stream",
     "text": [
      "MCEqRun::set_obs_particles(): Converted names:D+, D-, D0, D0-bar, D*+, D*-, D*0, D*0-bar\n",
      "to: 411, -411, 421, -421, 413, -413, 10421, -10421\n",
      "MCEqRun::_init_default_matrices():Start filling matrices.\n",
      "MCEqRun::_convert_to_sparse():Converting to sparse (CSR) matrix format.\n",
      "C Matrix info:\n",
      "    density    : 6.22238428076e-07\n",
      "    shape      : (5688, 5688)\n",
      "    nnz        : 1607101\n",
      "D Matrix info:\n",
      "    density    : 3.1701850437e-06\n",
      "    shape      : (5688, 5688)\n",
      "    nnz        : 315439\n",
      "MCEqRun::_init_default_matrices():Done filling matrices.\n",
      "MCEqRun::_calculate_integration_path():\n",
      "MCEqRun::_forward_euler(): Solver will perform 4729 integration steps.\n"
     ]
    },
    {
     "name": "stderr",
     "output_type": "stream",
     "text": [
      "100% |##########################################################| Time: 0:00:00\n",
      "100% |##########################################################| Time: 0:00:07\n"
     ]
    },
    {
     "name": "stdout",
     "output_type": "stream",
     "text": [
      "\n",
      "MCEqRun::_forward_euler(): time elapsed during integration: 7.36309695244 sec\n",
      "MCEqRun::set_obs_particles(): Converted names:Ds+, Ds-\n",
      "to: 431, -431\n",
      "MCEqRun::_init_default_matrices():Start filling matrices.\n",
      "MCEqRun::_convert_to_sparse():Converting to sparse (CSR) matrix format.\n",
      "C Matrix info:\n",
      "    density    : 6.20752501012e-07\n",
      "    shape      : (5688, 5688)\n",
      "    nnz        : 1610948\n",
      "D Matrix info:\n",
      "    density    : 3.28136741143e-06\n",
      "    shape      : (5688, 5688)\n",
      "    nnz        : 304751\n",
      "MCEqRun::_init_default_matrices():Done filling matrices.\n",
      "MCEqRun::_calculate_integration_path():\n",
      "MCEqRun::_forward_euler(): Solver will perform 4729 integration steps.\n"
     ]
    },
    {
     "name": "stderr",
     "output_type": "stream",
     "text": [
      "100% |##########################################################| Time: 0:00:06\n"
     ]
    },
    {
     "name": "stdout",
     "output_type": "stream",
     "text": [
      "\n",
      "MCEqRun::_forward_euler(): time elapsed during integration: 6.89772796631 sec\n",
      "MCEqRun::set_obs_particles(): Converted names:K0S\n",
      "to: 310\n",
      "MCEqRun::_init_default_matrices():Start filling matrices.\n",
      "MCEqRun::_convert_to_sparse():Converting to sparse (CSR) matrix format.\n",
      "C Matrix info:\n",
      "    density    : 7.18662368107e-07\n",
      "    shape      : (5688, 5688)\n",
      "    nnz        : 1391474\n",
      "D Matrix info:\n",
      "    density    : 3.39909448123e-06\n",
      "    shape      : (5688, 5688)\n",
      "    nnz        : 294196\n",
      "MCEqRun::_init_default_matrices():Done filling matrices.\n",
      "MCEqRun::_calculate_integration_path():\n",
      "MCEqRun::_forward_euler(): Solver will perform 4729 integration steps.\n"
     ]
    },
    {
     "name": "stderr",
     "output_type": "stream",
     "text": [
      "100% |##########################################################| Time: 0:00:06\n"
     ]
    },
    {
     "name": "stdout",
     "output_type": "stream",
     "text": [
      "\n",
      "MCEqRun::_forward_euler(): time elapsed during integration: 6.40201687813 sec\n",
      "MCEqRun::set_obs_particles(): Converted names:K0L\n",
      "to: 130\n",
      "MCEqRun::_init_default_matrices():Start filling matrices.\n",
      "MCEqRun::_convert_to_sparse():Converting to sparse (CSR) matrix format.\n",
      "C Matrix info:\n",
      "    density    : 7.3207942769e-07\n",
      "    shape      : (5688, 5688)\n",
      "    nnz        : 1365972\n",
      "D Matrix info:\n",
      "    density    : 3.31346359663e-06\n",
      "    shape      : (5688, 5688)\n",
      "    nnz        : 301799\n",
      "MCEqRun::_init_default_matrices():Done filling matrices.\n",
      "MCEqRun::_calculate_integration_path():\n",
      "MCEqRun::_forward_euler(): Solver will perform 4729 integration steps.\n"
     ]
    },
    {
     "name": "stderr",
     "output_type": "stream",
     "text": [
      "100% |##########################################################| Time: 0:00:06\n"
     ]
    },
    {
     "name": "stdout",
     "output_type": "stream",
     "text": [
      "\n",
      "MCEqRun::_forward_euler(): time elapsed during integration: 6.34234595299 sec\n",
      "MCEqRun::set_obs_particles(): Converted names:LambdaC+, LambdaC+-bar\n",
      "to: 4122, -4122\n",
      "MCEqRun::_init_default_matrices():Start filling matrices.\n",
      "MCEqRun::_convert_to_sparse():Converting to sparse (CSR) matrix format.\n",
      "C Matrix info:\n",
      "    density    : 6.38311996691e-07\n",
      "    shape      : (5688, 5688)\n",
      "    nnz        : 1566632\n",
      "D Matrix info:\n",
      "    density    : 3.33251131388e-06\n",
      "    shape      : (5688, 5688)\n",
      "    nnz        : 300074\n",
      "MCEqRun::_init_default_matrices():Done filling matrices.\n",
      "MCEqRun::_calculate_integration_path():\n",
      "MCEqRun::_forward_euler(): Solver will perform 4729 integration steps.\n"
     ]
    },
    {
     "name": "stderr",
     "output_type": "stream",
     "text": [
      "100% |##########################################################| Time: 0:00:07\n"
     ]
    },
    {
     "name": "stdout",
     "output_type": "stream",
     "text": [
      "\n",
      "MCEqRun::_forward_euler(): time elapsed during integration: 7.03567218781 sec\n",
      "MCEqRun::set_obs_particles(): Converted names:OmegaC0, OmegaC0-bar, XiC+, XiC+-bar, XiC0, XiC0-bar, SigmaC*+, SigmaC*++, tau+, tau-, SigmaC*++-bar, SigmaC*+-bar, SigmaC*0, SigmaC*0-bar, SigmaC+, SigmaC++, SigmaC++-bar, SigmaC+-bar, SigmaC0, SigmaC0-bar\n",
      "to: 4332, -4332, 4232, -4232, 4132, -4132, 4214, 4224, -15, 15, -4224, -4214, 4114, -4114, 4212, 4222, -4222, -4212, 4112, -4112\n",
      "MCEqRun::_init_default_matrices():Start filling matrices.\n",
      "MCEqRun::_convert_to_sparse():Converting to sparse (CSR) matrix format.\n",
      "C Matrix info:\n",
      "    density    : 6.06776234274e-07\n",
      "    shape      : (5688, 5688)\n",
      "    nnz        : 1648054\n",
      "D Matrix info:\n",
      "    density    : 2.95355534224e-06\n",
      "    shape      : (5688, 5688)\n",
      "    nnz        : 338575\n",
      "MCEqRun::_init_default_matrices():Done filling matrices.\n",
      "MCEqRun::_calculate_integration_path():\n",
      "MCEqRun::_forward_euler(): Solver will perform 4729 integration steps.\n"
     ]
    },
    {
     "name": "stderr",
     "output_type": "stream",
     "text": [
      "100% |##########################################################| Time: 0:00:06\n"
     ]
    },
    {
     "name": "stdout",
     "output_type": "stream",
     "text": [
      "\n",
      "MCEqRun::_forward_euler(): time elapsed during integration: 6.93550300598 sec\n",
      "MCEqRun::set_obs_particles(): Converted names:K0S, K0L, n, n-bar, p, p-bar, Lambda0, Lambda0-bar, Sigma-, Sigma--bar, Xi-, Xi--bar, Xi0, Xi0-bar, Delta-, Delta--bar, Delta0, Delta0-bar, K*+, K*-, K*0, K*0-bar, Omega-, Omega--bar, Sigma*+, Sigma*+-bar, Sigma*-, Sigma*--bar, Sigma*0, Sigma*0-bar, Sigma+, Sigma+-bar, Sigma0, Sigma0-bar, Delta+, Delta++, Delta++-bar, Delta+-bar, Xi*-, Xi*--bar, Xi*0, Xi*0-bar\n",
      "to: 310, 130, 2112, -2112, 2212, -2212, 3122, -3122, 3112, -3112, 3312, -3312, 3322, -3322, 1114, -1114, 2114, -2114, 323, -323, 313, -313, 3334, -3334, 3224, -3224, 3114, -3114, 3214, -3214, 3222, -3222, 3212, -3212, 2214, 2224, -2224, -2214, 3314, -3314, 3324, -3324\n",
      "MCEqRun::_init_default_matrices():Start filling matrices.\n",
      "MCEqRun::_convert_to_sparse():Converting to sparse (CSR) matrix format.\n",
      "C Matrix info:\n",
      "    density    : 6.80768560474e-07\n",
      "    shape      : (5688, 5688)\n",
      "    nnz        : 1468928\n",
      "D Matrix info:\n",
      "    density    : 2.89938272142e-06\n",
      "    shape      : (5688, 5688)\n",
      "    nnz        : 344901\n",
      "MCEqRun::_init_default_matrices():Done filling matrices.\n",
      "MCEqRun::_calculate_integration_path():\n",
      "MCEqRun::_forward_euler(): Solver will perform 4729 integration steps.\n"
     ]
    },
    {
     "name": "stderr",
     "output_type": "stream",
     "text": [
      "100% |##########################################################| Time: 0:00:06\n"
     ]
    },
    {
     "name": "stdout",
     "output_type": "stream",
     "text": [
      "\n",
      "MCEqRun::_forward_euler(): time elapsed during integration: 6.42927002907 sec\n",
      "MCEqRun::set_obs_particles(): Converted names:K0S, K0L, n, n-bar, p, p-bar, Lambda0, Lambda0-bar, Sigma-, Sigma--bar, Xi-, Xi--bar, Xi0, Xi0-bar, Delta-, Delta--bar, Delta0, Delta0-bar, K*+, K*-, K*0, K*0-bar, Omega-, Omega--bar, Sigma*+, Sigma*+-bar, Sigma*-, Sigma*--bar, Sigma*0, Sigma*0-bar, Sigma+, Sigma+-bar, Sigma0, Sigma0-bar, Delta+, Delta++, Delta++-bar, Delta+-bar, Xi*-, Xi*--bar, Xi*0, Xi*0-bar, eta, eta*, omega, phi, pi0, rho+, rho-, rho0\n",
      "to: 310, 130, 2112, -2112, 2212, -2212, 3122, -3122, 3112, -3112, 3312, -3312, 3322, -3322, 1114, -1114, 2114, -2114, 323, -323, 313, -313, 3334, -3334, 3224, -3224, 3114, -3114, 3214, -3214, 3222, -3222, 3212, -3212, 2214, 2224, -2224, -2214, 3314, -3314, 3324, -3324, 221, 331, 223, 333, 111, 213, -213, 113\n",
      "MCEqRun::_init_default_matrices():Start filling matrices.\n",
      "MCEqRun::_convert_to_sparse():Converting to sparse (CSR) matrix format.\n",
      "C Matrix info:\n",
      "    density    : 6.46585864986e-07\n",
      "    shape      : (5688, 5688)\n",
      "    nnz        : 1546585\n",
      "D Matrix info:\n",
      "    density    : 2.89938272142e-06\n",
      "    shape      : (5688, 5688)\n",
      "    nnz        : 344901\n",
      "MCEqRun::_init_default_matrices():Done filling matrices.\n",
      "MCEqRun::_calculate_integration_path():\n",
      "MCEqRun::_forward_euler(): Solver will perform 4729 integration steps.\n"
     ]
    },
    {
     "name": "stderr",
     "output_type": "stream",
     "text": [
      "100% |##########################################################| Time: 0:00:06\n"
     ]
    },
    {
     "name": "stdout",
     "output_type": "stream",
     "text": [
      "\n",
      "MCEqRun::_forward_euler(): time elapsed during integration: 6.76147198677 sec\n",
      "MCEqRun::set_obs_particles(): Converted names:n, n-bar, p, p-bar, Lambda0, Lambda0-bar, Sigma-, Sigma--bar, Xi-, Xi--bar, Xi0, Xi0-bar, Delta-, Delta--bar, Delta0, Delta0-bar, K*+, K*-, K*0, K*0-bar, Omega-, Omega--bar, Sigma*+, Sigma*+-bar, Sigma*-, Sigma*--bar, Sigma*0, Sigma*0-bar, Sigma+, Sigma+-bar, Sigma0, Sigma0-bar, Delta+, Delta++, Delta++-bar, Delta+-bar, Xi*-, Xi*--bar, Xi*0, Xi*0-bar, eta, eta*, omega, phi, pi0, rho+, rho-, rho0\n",
      "to: 2112, -2112, 2212, -2212, 3122, -3122, 3112, -3112, 3312, -3312, 3322, -3322, 1114, -1114, 2114, -2114, 323, -323, 313, -313, 3334, -3334, 3224, -3224, 3114, -3114, 3214, -3214, 3222, -3222, 3212, -3212, 2214, 2224, -2224, -2214, 3314, -3314, 3324, -3324, 221, 331, 223, 333, 111, 213, -213, 113\n",
      "MCEqRun::_init_default_matrices():Start filling matrices.\n",
      "MCEqRun::_convert_to_sparse():Converting to sparse (CSR) matrix format.\n",
      "C Matrix info:\n",
      "    density    : 6.4724332595e-07\n",
      "    shape      : (5688, 5688)\n",
      "    nnz        : 1545014\n",
      "D Matrix info:\n",
      "    density    : 3.0384423729e-06\n",
      "    shape      : (5688, 5688)\n",
      "    nnz        : 329116\n",
      "MCEqRun::_init_default_matrices():Done filling matrices.\n",
      "MCEqRun::_calculate_integration_path():\n",
      "MCEqRun::_forward_euler(): Solver will perform 4729 integration steps.\n"
     ]
    },
    {
     "name": "stderr",
     "output_type": "stream",
     "text": [
      "100% |##########################################################| Time: 0:00:06\n"
     ]
    },
    {
     "name": "stdout",
     "output_type": "stream",
     "text": [
      "\n",
      "MCEqRun::_forward_euler(): time elapsed during integration: 6.66185092926 sec\n",
      "MCEqRun::set_obs_particles(): Converted names:eta, eta*, omega, phi, pi0, rho+, rho-, rho0, etaC, jpsi\n",
      "to: 221, 331, 223, 333, 111, 213, -213, 113, 441, 443\n",
      "MCEqRun::_init_default_matrices():Start filling matrices.\n",
      "MCEqRun::_convert_to_sparse():Converting to sparse (CSR) matrix format.\n",
      "C Matrix info:\n",
      "    density    : 6.61094084266e-07\n",
      "    shape      : (5688, 5688)\n",
      "    nnz        : 1512644\n",
      "D Matrix info:\n",
      "    density    : 3.44702780028e-06\n",
      "    shape      : (5688, 5688)\n",
      "    nnz        : 290105\n",
      "MCEqRun::_init_default_matrices():Done filling matrices.\n",
      "MCEqRun::_calculate_integration_path():\n",
      "MCEqRun::_forward_euler(): Solver will perform 4729 integration steps.\n"
     ]
    },
    {
     "name": "stderr",
     "output_type": "stream",
     "text": [
      "100% |##########################################################| Time: 0:00:07\n"
     ]
    },
    {
     "name": "stdout",
     "output_type": "stream",
     "text": [
      "\n",
      "MCEqRun::_forward_euler(): time elapsed during integration: 7.02463293076 sec\n",
      "MCEqRun::set_obs_particles(): Converted names:tau+, tau-\n",
      "to: -15, 15\n",
      "MCEqRun::_init_default_matrices():Start filling matrices.\n",
      "MCEqRun::_convert_to_sparse():Converting to sparse (CSR) matrix format.\n",
      "C Matrix info:\n",
      "    density    : 6.14486897296e-07\n",
      "    shape      : (5688, 5688)\n",
      "    nnz        : 1627374\n",
      "D Matrix info:\n",
      "    density    : 3.2646558563e-06\n",
      "    shape      : (5688, 5688)\n",
      "    nnz        : 306311\n",
      "MCEqRun::_init_default_matrices():Done filling matrices.\n",
      "MCEqRun::_calculate_integration_path():\n",
      "MCEqRun::_forward_euler(): Solver will perform 4729 integration steps.\n"
     ]
    },
    {
     "name": "stderr",
     "output_type": "stream",
     "text": [
      "100% |##########################################################| Time: 0:00:06\n"
     ]
    },
    {
     "name": "stdout",
     "output_type": "stream",
     "text": [
      "\n",
      "MCEqRun::_forward_euler(): time elapsed during integration: 6.79313898087 sec\n",
      "MCEqRun::set_obs_particles(): Converted names:mu+, mu-, pi_mu+, pi_mu-, k_mu+, k_mu-, pr_mu+, pr_mu-\n",
      "to: -13, 13, -7113, 7113, -7213, 7213, -7013, 7013\n",
      "MCEqRun::_init_default_matrices():Start filling matrices.\n",
      "MCEqRun::_convert_to_sparse():Converting to sparse (CSR) matrix format.\n",
      "C Matrix info:\n",
      "    density    : 7.3207942769e-07\n",
      "    shape      : (5688, 5688)\n",
      "    nnz        : 1365972\n",
      "D Matrix info:\n",
      "    density    : 3.01258356154e-06\n",
      "    shape      : (5688, 5688)\n",
      "    nnz        : 331941\n",
      "MCEqRun::_init_default_matrices():Done filling matrices.\n",
      "MCEqRun::_calculate_integration_path():\n",
      "MCEqRun::_forward_euler(): Solver will perform 4729 integration steps.\n"
     ]
    },
    {
     "name": "stderr",
     "output_type": "stream",
     "text": []
    },
    {
     "name": "stdout",
     "output_type": "stream",
     "text": [
      "\n",
      "MCEqRun::_forward_euler(): time elapsed during integration: 6.03910303116 sec\n"
     ]
    },
    {
     "name": "stderr",
     "output_type": "stream",
     "text": [
      " 97% |########################################################  | ETA:  0:00:00\r",
      " 98% |######################################################### | ETA:  0:00:00\r",
      " 99% |######################################################### | ETA:  0:00:00\r",
      "100% |##########################################################| Time: 0:00:06\r\n"
     ]
    }
   ],
   "source": [
    "mag = 3\n",
    "mu_obs = {}\n",
    "numu_obs = {}\n",
    "nue_obs = {}\n",
    "nutau_obs = {}\n",
    "for res_group, res_title in res_groups:\n",
    "    mceq_run.set_obs_particles(res_group)\n",
    "    mceq_run.solve()\n",
    "    mu_obs[res_title] = mceq_run.get_solution('obs_mu+', mag) + \\\n",
    "                        mceq_run.get_solution('obs_mu-', mag)\n",
    "    numu_obs[res_title] = mceq_run.get_solution('obs_numu', mag) + \\\n",
    "                          mceq_run.get_solution('obs_antinumu', mag)\n",
    "    nue_obs[res_title] = mceq_run.get_solution('obs_nue', mag) + \\\n",
    "                         mceq_run.get_solution('obs_antinue', mag)\n",
    "    nutau_obs[res_title] = mceq_run.get_solution('obs_nutau', mag) + \\\n",
    "                           mceq_run.get_solution('obs_antinutau', mag)"
   ]
  },
  {
   "cell_type": "code",
   "execution_count": 12,
   "metadata": {
    "collapsed": false
   },
   "outputs": [],
   "source": [
    "mu_conv = mceq_run.get_solution('conv_mu+', mag) + \\\n",
    "          mceq_run.get_solution('conv_mu-', mag)\n",
    "\n",
    "numu_conv = mceq_run.get_solution('conv_numu', mag) + \\\n",
    "            mceq_run.get_solution('conv_antinumu', mag)\n",
    "\n",
    "nue_conv = mceq_run.get_solution('conv_nue', mag) + \\\n",
    "           mceq_run.get_solution('conv_antinue', mag)\n",
    "\n",
    "mu_prompt = mceq_run.get_solution('pr_mu+', mag) + \\\n",
    "          mceq_run.get_solution('pr_mu-', mag)\n",
    "\n",
    "numu_prompt = mceq_run.get_solution('pr_numu', mag) + \\\n",
    "            mceq_run.get_solution('pr_antinumu', mag)\n",
    "\n",
    "nue_prompt = mceq_run.get_solution('pr_nue', mag) + \\\n",
    "           mceq_run.get_solution('pr_antinue', mag)\n",
    "\n",
    "\n",
    "mu_total = mceq_run.get_solution('total_mu+', mag) + \\\n",
    "           mceq_run.get_solution('total_mu-', mag)\n",
    "\n",
    "numu_total = mceq_run.get_solution('total_numu', mag) + \\\n",
    "            mceq_run.get_solution('total_antinumu', mag)\n",
    "\n",
    "nue_total = mceq_run.get_solution('total_nue', mag) + \\\n",
    "            mceq_run.get_solution('total_antinue', mag)\n",
    "\n",
    "nutau_total = mceq_run.get_solution('total_nutau', mag) + \\\n",
    "              mceq_run.get_solution('total_antinutau', mag)\n",
    "\n",
    "mu_pi = mceq_run.get_solution('pi_mu+', mag) + \\\n",
    "           mceq_run.get_solution('pi_mu-', mag)\n",
    "\n",
    "numu_pi = mceq_run.get_solution('pi_numu', mag) + \\\n",
    "            mceq_run.get_solution('pi_antinumu', mag)\n",
    "\n",
    "nue_pi = mceq_run.get_solution('pi_nue', mag) + \\\n",
    "            mceq_run.get_solution('pi_antinue', mag)\n",
    "\n",
    "mu_k = mceq_run.get_solution('k_mu+', mag) + \\\n",
    "           mceq_run.get_solution('k_mu-', mag)\n",
    "\n",
    "numu_k = mceq_run.get_solution('k_numu', mag) + \\\n",
    "            mceq_run.get_solution('k_antinumu', mag)\n",
    "\n",
    "nue_k = mceq_run.get_solution('k_nue', mag) + \\\n",
    "            mceq_run.get_solution('k_antinue', mag)"
   ]
  },
  {
   "cell_type": "code",
   "execution_count": 13,
   "metadata": {
    "collapsed": false
   },
   "outputs": [
    {
     "data": {
      "text/plain": [
       "'\\nplt.subplot(224)\\nplt.plot(e_grid, nutau_total, ls=\\'-\\', lw=2, color=\\'black\\', alpha=0.6, label=\\'total\\')\\nplt.plot(e_grid, nutau_obs[\"tau decay\"], ls=\\'-\\', lw=1.5, color=\\'darkblue\\', label=r\\'$\\tau$\\')\\nplt.plot(e_grid, nutau_obs[\\'$D^\\\\pm + D^0$\\'], ls=\\'-\\', lw=1.5, color=\\'orange\\', label=r\\'$D^\\\\pm, D^0$\\')\\nplt.plot(e_grid, nutau_obs[\\'$D_s$\\'], ls=\\'-\\', lw=1.5, color=\\'cyan\\', label=r\\'$D_s$\\')\\n\\n\\nplt.loglog()\\nplt.xlabel(r\"$E_{\\nu_{\\tau}}$ [GeV]\")\\nplt.ylabel(r\"$\\\\Phi_{\\nu_{\\tau}}$ (E/GeV)$^{\" + str(mag) + \"}$ (cm$^{2}$ s sr GeV)$^{-1}$\")\\nplt.xlim([50, 1e9])\\nplt.ylim([1e-9, 1e-2])\\nplt.legend(loc=1, frameon=False, numpoints=1, ncol=2)\\n'"
      ]
     },
     "execution_count": 13,
     "metadata": {},
     "output_type": "execute_result"
    },
    {
     "data": {
      "image/png": "[encoded data removed]",
      "text/plain": [
       "<matplotlib.figure.Figure at 0x11bf6f250>"
      ]
     },
     "metadata": {},
     "output_type": "display_data"
    }
   ],
   "source": [
    "color_spectrum = ['b', 'r', 'g', 'orange', 'cyan', 'violet',\n",
    "                  'brown', 'pink', 'yellow', 'lightblue']\n",
    "fig = plt.figure(figsize=(11, 7.5))\n",
    "fig.set_tight_layout(dict(rect=[0.01, 0.01, 0.97, 0.95]))\n",
    "e_grid = mceq_run.e_grid\n",
    "plt.suptitle('{0} atmospheric lepton fluxes, {1} primary flux model.'.format(mceq_run.iamodel_name,\n",
    "                                                                             mceq_run.pmodel.sname))\n",
    "'''\n",
    "plt.subplot(221)        \n",
    "plt.plot(e_grid, mu_total, ls='-', lw=2, color='black', label='total')\n",
    "plt.plot(e_grid, mu_conv, ls='dotted', lw=2, color='black', label=r'total conv.')\n",
    "plt.plot(e_grid, mu_prompt, ls='--', lw=2, color='black', label='total prompt')\n",
    "plt.plot(e_grid, mu_obs['other prompt'], ls='--', lw=1.5, color='lightblue', label=r'other prompt')\n",
    "plt.plot(e_grid, mu_obs['other conv. mu'], ls='--', lw=1.5, color='grey', label=r'other conv.')\n",
    "plt.plot(e_grid, mu_pi, ls='-', lw=1.5, color='red', label=r'$\\pi$')\n",
    "plt.plot(e_grid, mu_k, ls='-', lw=1.5, color='green', label=r'$K$')\n",
    "plt.plot(e_grid, mu_obs['$D^\\\\pm + D^0$'], ls='-', lw=1.5, color='orange', label=r'$D^\\pm, D^0$')\n",
    "plt.plot(e_grid, mu_obs['$D_s$'], ls='-', lw=1.5, color='cyan', label=r'$D_s$')\n",
    "plt.plot(e_grid, mu_obs['$\\\\Lambda_C$'], ls='-', lw=1.5, color='violet', label=r'$\\Lambda_C$')\n",
    "plt.plot(e_grid, mu_obs['unflavored'], ls='-', lw=1.5, color='pink', label=r'unflavored')\n",
    "\n",
    "plt.loglog()\n",
    "plt.xlabel(r\"$E_{\\mu}$ [GeV]\")\n",
    "plt.ylabel(r\"$\\Phi_{\\mu}$ (E/GeV)$^{\" + str(mag) + \"}$ (cm$^{2}$ s sr GeV)$^{-1}$\")\n",
    "plt.xlim([50, 1e9])\n",
    "plt.ylim([1e-6, 1e3])\n",
    "plt.legend(loc='upper right', frameon=False, numpoints=1, ncol=2)\n",
    "'''\n",
    "plt.subplot(221)\n",
    "plt.plot(e_grid, numu_total, ls='-', lw=2, color='black', label='total')\n",
    "plt.plot(e_grid, numu_conv, ls='dotted', lw=2, color='black', label=r'total conv.')\n",
    "plt.plot(e_grid, numu_prompt, ls='--', lw=2, color='black', label='total prompt')\n",
    "plt.plot(e_grid, numu_obs['other conv. numu'], ls='--', lw=1.5, color='grey', label=r'other conv.')\n",
    "plt.plot(e_grid, numu_obs['other prompt'], ls='--', lw=1.5, color='lightblue', label=r'other prompt')\n",
    "plt.plot(e_grid, numu_pi, ls='-', lw=1.5, color='red', label=r'$\\pi$')\n",
    "plt.plot(e_grid, numu_k, ls='-', lw=1.5, color='green', label=r'$K$')\n",
    "plt.plot(e_grid, numu_obs['$D^\\\\pm + D^0$'], ls='-', lw=1.5, color='orange', label=r'$D^\\pm, D^0$')\n",
    "plt.plot(e_grid, numu_obs['$D_s$'], ls='-', lw=1.5, color='cyan', label=r'$D_s$')\n",
    "plt.plot(e_grid, numu_obs['$\\\\Lambda_C$'], ls='-', lw=1.5, color='violet', label=r'$\\Lambda_C$')\n",
    "plt.loglog()\n",
    "plt.xlabel(r\"$E_{\\nu_{\\mu}}$ [GeV]\")\n",
    "plt.ylabel(r\"$\\Phi_{\\nu_{\\mu}}$ (E/GeV)$^{\" + str(mag) + \"}$ (cm$^{2}$ s sr GeV)$^{-1}$\")\n",
    "plt.xlim([50, 1e9])\n",
    "plt.ylim([1e-7, 1e1])\n",
    "plt.legend(loc='upper right', frameon=False, numpoints=1, ncol=2)\n",
    "\n",
    "plt.subplot(222)\n",
    "plt.plot(e_grid, nue_total, ls='-', lw=2, color='black', label='total')\n",
    "plt.plot(e_grid, nue_conv, ls='dotted', lw=2, color='black', label=r'total conv.')\n",
    "plt.plot(e_grid, nue_prompt, ls='--', lw=2, color='black', label='total prompt')\n",
    "plt.plot(e_grid, nue_obs['other conv. nue'], ls='--', lw=1.5, color='grey', label=r'other conv.')\n",
    "plt.plot(e_grid, nue_obs['other prompt'], ls='--', lw=1.5, color='lightblue', label=r'other prompt')\n",
    "plt.plot(e_grid, nue_pi, ls='-', lw=1.5, color='red', label=r'$\\pi$')\n",
    "plt.plot(e_grid, nue_k, ls='-', lw=1.5, color='green', label=r'$K$')\n",
    "plt.plot(e_grid, nue_obs['$K^0_s$'], ls='-', lw=1.5, color='brown', label=r'$K^0_S$')\n",
    "plt.plot(e_grid, nue_obs['$K^0_L$'], ls='-', lw=1.5, color='blue', label=r'$K^0_L$')\n",
    "# plt.plot(e_grid, nue_obs['$\\\\mu$ decay'], ls='-', lw=1.5, color='pink', label=r'$\\mu$ decay')\n",
    "plt.plot(e_grid, nue_obs['$D^\\\\pm + D^0$'], ls='-', lw=1.5, color='orange', label=r'$D^\\pm, D^0$')\n",
    "plt.plot(e_grid, nue_obs['$D_s$'], ls='-', lw=1.5, color='cyan', label=r'$D_s$')\n",
    "plt.plot(e_grid, nue_obs['$\\\\Lambda_C$'], ls='-', lw=1.5, color='violet', label=r'$\\Lambda_C$')\n",
    "plt.plot(e_grid, nue_obs[\"tau decay\"], ls='-', lw=1.5, color='darkblue', label=r'$\\tau$')\n",
    "\n",
    "plt.loglog()\n",
    "plt.xlabel(r\"$E_{\\nu_{e}}$ [GeV]\")\n",
    "plt.ylabel(r\"$\\Phi_{\\nu_{e}}$ (E/GeV)$^{\" + str(mag) + \"}$ (cm$^{2}$ s sr GeV)$^{-1}$\")\n",
    "plt.xlim([50, 1e9])\n",
    "plt.ylim([1e-7, 1e1])\n",
    "plt.legend(loc=1, frameon=False, numpoints=1, ncol=3)\n",
    "'''\n",
    "plt.subplot(224)\n",
    "plt.plot(e_grid, nutau_total, ls='-', lw=2, color='black', alpha=0.6, label='total')\n",
    "plt.plot(e_grid, nutau_obs[\"tau decay\"], ls='-', lw=1.5, color='darkblue', label=r'$\\tau$')\n",
    "plt.plot(e_grid, nutau_obs['$D^\\\\pm + D^0$'], ls='-', lw=1.5, color='orange', label=r'$D^\\pm, D^0$')\n",
    "plt.plot(e_grid, nutau_obs['$D_s$'], ls='-', lw=1.5, color='cyan', label=r'$D_s$')\n",
    "\n",
    "\n",
    "plt.loglog()\n",
    "plt.xlabel(r\"$E_{\\nu_{\\tau}}$ [GeV]\")\n",
    "plt.ylabel(r\"$\\Phi_{\\nu_{\\tau}}$ (E/GeV)$^{\" + str(mag) + \"}$ (cm$^{2}$ s sr GeV)$^{-1}$\")\n",
    "plt.xlim([50, 1e9])\n",
    "plt.ylim([1e-9, 1e-2])\n",
    "plt.legend(loc=1, frameon=False, numpoints=1, ncol=2)\n",
    "'''\n",
    "# plt.savefig('detailed_flux.pdf')\n"
   ]
  },
  {
   "cell_type": "code",
   "execution_count": null,
   "metadata": {
    "collapsed": false
   },
   "outputs": [],
   "source": []
  }
 ],
 "metadata": {
  "kernelspec": {
   "display_name": "Python 2",
   "language": "python",
   "name": "python2"
  },
  "language_info": {
   "codemirror_mode": {
    "name": "ipython",
    "version": 2
   },
   "file_extension": ".py",
   "mimetype": "text/x-python",
   "name": "python",
   "nbconvert_exporter": "python",
   "pygments_lexer": "ipython2",
   "version": "2.7.13"
  }
 },
 "nbformat": 4,
 "nbformat_minor": 0
}
