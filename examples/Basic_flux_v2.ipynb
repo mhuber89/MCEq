{
 "cells": [
  {
   "cell_type": "markdown",
   "metadata": {},
   "source": [
    "Simplest possible example\n",
    "--------------------------\n",
    "\n",
    "Compute the fluxes of atmospheric leptons for a standard set of models at a fixed zenith angle."
   ]
  },
  {
   "cell_type": "code",
   "execution_count": 1,
   "metadata": {
    "collapsed": true
   },
   "outputs": [],
   "source": [
    "#basic imports and jupyter setup\n",
    "%load_ext autoreload\n",
    "%matplotlib inline\n",
    "%autoreload 2\n",
    "import os\n",
    "import matplotlib.pyplot as plt\n",
    "import numpy as np\n",
    "os.chdir('..')\n",
    "\n",
    "#import solver related modules\n",
    "from MCEq.core import MCEqRun\n",
    "from mceq_config import config\n",
    "#import primary model choices\n",
    "import CRFluxModels.CRFluxModels as pm"
   ]
  },
  {
   "cell_type": "markdown",
   "metadata": {},
   "source": [
    "Create an instance of an MCEqRun class. Most of its areguments are contained in the `config` dictionary from the `mceq_config` module. Look into or edit `mceq_config.py`.\n",
    "\n",
    "If the initialization succeeds it will print out some information according to the debug level. "
   ]
  },
  {
   "cell_type": "code",
   "execution_count": 7,
   "metadata": {
    "collapsed": false
   },
   "outputs": [
    {
     "name": "stdout",
     "output_type": "stream",
     "text": [
      "InteractionYields::_load(): Looking for /Users/mhuber/AtmosphericMuons_Anatoli/MCEq/data/SIBYLL23C_yields_compact_ledpm.bz2\n",
      "DecayYields:_load():: Loading file /Users/mhuber/AtmosphericMuons_Anatoli/MCEq/data/decays_v1_compact.ppd\n",
      "\n",
      "Hadrons and stable particles:\n",
      "\n",
      "\"p\", \"p-bar\", \"n-bar\", \"n\"\n",
      "\n",
      "Mixed:\n",
      "\n",
      "\"pi-\", \"pi+\", \"K0L\", \"K-\", \"K+\", \"Lambda0\", \"Lambda0-bar\", \"K0S\", \n",
      "\"D+\", \"D-\", \"Ds+\", \"Ds-\", \"D0\", \"D0-bar\"\n",
      "\n",
      "Resonances:\n",
      "\n",
      "\n",
      "\n",
      "Leptons:\n",
      "\n",
      "\"e-\", \"nue\", \"numu\", \"nutau\", \"antinutau\", \"antinumu\", \"antinue\", \"e+\", \n",
      "\"mu-\", \"mu+\"\n",
      "\n",
      "Aliases:\n",
      "\"obs_numu\", \"obs_nutau\", \"gamma\", \"pr_antinutau\", \"pr_antinumu\", \"pr_antinue\", \"obs_antinue\", \"k_nue\", \n",
      "\"k_numu\", \"k_nutau\", \"pi_antinutau\", \"pi_antinue\", \"pi_antinumu\", \"pi_nue\", \"pi_numu\", \"pi_nutau\", \n",
      "\"k_antinutau\", \"k_antinumu\", \"k_antinue\", \"obs_nue\", \"pr_nue\", \"pr_numu\", \"pr_nutau\", \"obs_antinutau\", \n",
      "\"obs_antinumu\", \"k_mu-\", \"obs_mu-\", \"pr_mu+\", \"pi_mu+\", \"pi_mu-\", \"k_mu+\", \"pr_mu-\", \n",
      "\"obs_mu+\"\n",
      "\n",
      "Total number of species: 61\n",
      "MCEqRun::set_interaction_model():  SIBYLL23C\n",
      "InteractionYields:set_interaction_model():: Model SIBYLL23C already loaded.\n",
      "InteractionYields:set_interaction_model():: Model SIBYLL23C already loaded.\n",
      "MCEqRun::_init_default_matrices():Start filling matrices. Skip_D_matrix = False\n",
      "MCEqRun::_convert_to_sparse():Converting to sparse (CSR) matrix format.\n",
      "C Matrix info:\n",
      "    density    : 3.42%\n",
      "    shape      : 5368 x 5368\n",
      "    nnz        : 984591\n",
      "D Matrix info:\n",
      "    density    : 1.11%\n",
      "    shape      : 5368 x 5368\n",
      "    nnz        : 318463\n",
      "MCEqRun::_init_default_matrices():Done filling matrices.\n",
      "MCEqRun::set_density_model():  CORSIKA ('BK_USStd', None)\n",
      "MCEqRun::set_theta_deg():  0.0\n",
      "CorsikaAtmosphere::calculate_density_spline(): Calculating spline of rho(X) for zenith 0.0 degrees.\n",
      ".. took 0.02s\n",
      "MCEqRun::set_primary_model():  GlobalSplineFit None\n"
     ]
    },
    {
     "ename": "ImportError",
     "evalue": "No module named gsf.flux",
     "output_type": "error",
     "traceback": [
      "\u001b[0;31m---------------------------------------------------------------------------\u001b[0m",
      "\u001b[0;31mImportError\u001b[0m                               Traceback (most recent call last)",
      "\u001b[0;32m<ipython-input-7-1f122a42cfb3>\u001b[0m in \u001b[0;36m<module>\u001b[0;34m()\u001b[0m\n\u001b[1;32m      7\u001b[0m \u001b[0mtheta_deg\u001b[0m\u001b[0;34m=\u001b[0m\u001b[0;36m0.0\u001b[0m\u001b[0;34m,\u001b[0m\u001b[0;34m\u001b[0m\u001b[0m\n\u001b[1;32m      8\u001b[0m \u001b[0;31m#expand the rest of the options from mceq_config.py\u001b[0m\u001b[0;34m\u001b[0m\u001b[0;34m\u001b[0m\u001b[0m\n\u001b[0;32m----> 9\u001b[0;31m \u001b[0;34m**\u001b[0m\u001b[0mconfig\u001b[0m\u001b[0;34m\u001b[0m\u001b[0m\n\u001b[0m\u001b[1;32m     10\u001b[0m )\n",
      "\u001b[0;32m/Users/mhuber/AtmosphericMuons_Anatoli/MCEq/MCEq/core.pyc\u001b[0m in \u001b[0;36m__init__\u001b[0;34m(self, interaction_model, density_model, primary_model, theta_deg, adv_set, obs_ids, *args, **kwargs)\u001b[0m\n\u001b[1;32m    153\u001b[0m         \u001b[0;31m# Set initial flux condition\u001b[0m\u001b[0;34m\u001b[0m\u001b[0;34m\u001b[0m\u001b[0m\n\u001b[1;32m    154\u001b[0m         \u001b[0;32mif\u001b[0m \u001b[0mprimary_model\u001b[0m \u001b[0;32mis\u001b[0m \u001b[0;32mnot\u001b[0m \u001b[0mNone\u001b[0m\u001b[0;34m:\u001b[0m\u001b[0;34m\u001b[0m\u001b[0m\n\u001b[0;32m--> 155\u001b[0;31m             \u001b[0mself\u001b[0m\u001b[0;34m.\u001b[0m\u001b[0mset_primary_model\u001b[0m\u001b[0;34m(\u001b[0m\u001b[0;34m*\u001b[0m\u001b[0mself\u001b[0m\u001b[0;34m.\u001b[0m\u001b[0mpm_params\u001b[0m\u001b[0;34m)\u001b[0m\u001b[0;34m\u001b[0m\u001b[0m\n\u001b[0m\u001b[1;32m    156\u001b[0m \u001b[0;34m\u001b[0m\u001b[0m\n\u001b[1;32m    157\u001b[0m     \u001b[0;32mdef\u001b[0m \u001b[0m_init_dimensions_and_particle_tables\u001b[0m\u001b[0;34m(\u001b[0m\u001b[0mself\u001b[0m\u001b[0;34m,\u001b[0m \u001b[0mparticle_list\u001b[0m\u001b[0;34m=\u001b[0m\u001b[0mNone\u001b[0m\u001b[0;34m)\u001b[0m\u001b[0;34m:\u001b[0m\u001b[0;34m\u001b[0m\u001b[0m\n",
      "\u001b[0;32m/Users/mhuber/AtmosphericMuons_Anatoli/MCEq/MCEq/core.pyc\u001b[0m in \u001b[0;36mset_primary_model\u001b[0;34m(self, mclass, tag)\u001b[0m\n\u001b[1;32m    719\u001b[0m \u001b[0;34m\u001b[0m\u001b[0m\n\u001b[1;32m    720\u001b[0m         \u001b[0;31m# Initialize primary model object\u001b[0m\u001b[0;34m\u001b[0m\u001b[0;34m\u001b[0m\u001b[0m\n\u001b[0;32m--> 721\u001b[0;31m         \u001b[0mself\u001b[0m\u001b[0;34m.\u001b[0m\u001b[0mpmodel\u001b[0m \u001b[0;34m=\u001b[0m \u001b[0mmclass\u001b[0m\u001b[0;34m(\u001b[0m\u001b[0mtag\u001b[0m\u001b[0;34m)\u001b[0m\u001b[0;34m\u001b[0m\u001b[0m\n\u001b[0m\u001b[1;32m    722\u001b[0m         \u001b[0mself\u001b[0m\u001b[0;34m.\u001b[0m\u001b[0mget_nucleon_spectrum\u001b[0m \u001b[0;34m=\u001b[0m \u001b[0mnp\u001b[0m\u001b[0;34m.\u001b[0m\u001b[0mvectorize\u001b[0m\u001b[0;34m(\u001b[0m\u001b[0mself\u001b[0m\u001b[0;34m.\u001b[0m\u001b[0mpmodel\u001b[0m\u001b[0;34m.\u001b[0m\u001b[0mp_and_n_flux\u001b[0m\u001b[0;34m)\u001b[0m\u001b[0;34m\u001b[0m\u001b[0m\n\u001b[1;32m    723\u001b[0m \u001b[0;34m\u001b[0m\u001b[0m\n",
      "\u001b[0;32m/Users/mhuber/AtmosphericMuons_Anatoli/MCEq/CRFluxModels/CRFluxModels.pyc\u001b[0m in \u001b[0;36m__init__\u001b[0;34m(self, opt)\u001b[0m\n\u001b[1;32m    860\u001b[0m \u001b[0;34m\u001b[0m\u001b[0m\n\u001b[1;32m    861\u001b[0m     \u001b[0;32mdef\u001b[0m \u001b[0m__init__\u001b[0m\u001b[0;34m(\u001b[0m\u001b[0mself\u001b[0m\u001b[0;34m,\u001b[0m \u001b[0mopt\u001b[0m\u001b[0;34m=\u001b[0m\u001b[0mNone\u001b[0m\u001b[0;34m)\u001b[0m\u001b[0;34m:\u001b[0m\u001b[0;34m\u001b[0m\u001b[0m\n\u001b[0;32m--> 862\u001b[0;31m         \u001b[0;32mfrom\u001b[0m \u001b[0mgsf\u001b[0m\u001b[0;34m.\u001b[0m\u001b[0mflux\u001b[0m \u001b[0;32mimport\u001b[0m \u001b[0mz_to_a\u001b[0m\u001b[0;34m\u001b[0m\u001b[0m\n\u001b[0m\u001b[1;32m    863\u001b[0m         \u001b[0mself\u001b[0m\u001b[0;34m.\u001b[0m\u001b[0mnucleus_ids\u001b[0m \u001b[0;34m=\u001b[0m \u001b[0;34m[\u001b[0m\u001b[0ma\u001b[0m \u001b[0;34m*\u001b[0m \u001b[0;36m100\u001b[0m \u001b[0;34m+\u001b[0m \u001b[0mz\u001b[0m \u001b[0;32mfor\u001b[0m \u001b[0;34m(\u001b[0m\u001b[0mz\u001b[0m\u001b[0;34m,\u001b[0m \u001b[0ma\u001b[0m\u001b[0;34m)\u001b[0m \u001b[0;32min\u001b[0m \u001b[0mz_to_a\u001b[0m\u001b[0;34m.\u001b[0m\u001b[0mitems\u001b[0m\u001b[0;34m(\u001b[0m\u001b[0;34m)\u001b[0m\u001b[0;34m]\u001b[0m\u001b[0;34m\u001b[0m\u001b[0m\n\u001b[1;32m    864\u001b[0m \u001b[0;34m\u001b[0m\u001b[0m\n",
      "\u001b[0;31mImportError\u001b[0m: No module named gsf.flux"
     ]
    }
   ],
   "source": [
    "mceq_run = MCEqRun(\n",
    "#provide the string of the interaction model\n",
    "interaction_model='SIBYLL2.3c',\n",
    "#primary cosmic ray flux model\n",
    "primary_model = (pm.HillasGaisser2012, 'H3a'),\n",
    "# Zenith angle in degrees. 0=vertical, 90=horizontal\n",
    "theta_deg=0.0,\n",
    "#expand the rest of the options from mceq_config.py\n",
    "**config\n",
    ")"
   ]
  },
  {
   "cell_type": "markdown",
   "metadata": {},
   "source": [
    "__________\n",
    "\n",
    "If everything succeeds than the last message should be something like\n",
    "\n",
    "`MCEqRun::set_primary_model():  HillasGaisser2012 H3a`.\n",
    "\n",
    "Define variables and angles\n",
    "-------------------------"
   ]
  },
  {
   "cell_type": "code",
   "execution_count": 3,
   "metadata": {
    "collapsed": true
   },
   "outputs": [],
   "source": [
    "#Power of energy to scale the flux (the results will be returned as E**mag * flux)\n",
    "mag = 3\n",
    "\n",
    "#obtain energy grid (fixed) of the solution for the x-axis of the plots\n",
    "e_grid = mceq_run.e_grid\n",
    "\n",
    "#Dictionary for results\n",
    "flux = {}\n",
    "\n",
    "#Define a zenith angle, counted positively from vertical direction. Theta = 0. means vertical, theta = 90. horizontal\n",
    "theta = 60."
   ]
  },
  {
   "cell_type": "markdown",
   "metadata": {},
   "source": [
    "Calculate average flux\n",
    "---------------------"
   ]
  },
  {
   "cell_type": "code",
   "execution_count": 4,
   "metadata": {
    "collapsed": false
   },
   "outputs": [
    {
     "name": "stdout",
     "output_type": "stream",
     "text": [
      "MCEqRun::set_theta_deg():  60.0\n",
      "CorsikaAtmosphere::calculate_density_spline(): Calculating spline of rho(X) for zenith 60.0 degrees.\n",
      ".. took 0.03s\n",
      "MCEqRun::_calculate_integration_path(): X_surface = 2060.60278351\n",
      "MCEqRun::_forward_euler(): Solver will perform 686 integration steps.\n",
      "Performance:   1.12ms/iteration\n",
      "\n",
      "MCEqRun::_forward_euler(): time elapsed during integration: 0.819715976715 sec\n"
     ]
    }
   ],
   "source": [
    "#Set the zenith angle\n",
    "mceq_run.set_theta_deg(theta)\n",
    "#Run the solver\n",
    "mceq_run.solve()"
   ]
  },
  {
   "cell_type": "markdown",
   "metadata": {},
   "source": [
    "Obtain solution at the surface\n",
    "-------------------------------\n",
    "\n",
    "The fluxes of the particle (e.g., $\\mu^+$) and the anti-particle ($\\mu^-$) are summed in this example."
   ]
  },
  {
   "cell_type": "code",
   "execution_count": 5,
   "metadata": {
    "collapsed": true
   },
   "outputs": [],
   "source": [
    "#_conv means conventional (mostly pions and kaons)\n",
    "mu_conv = (mceq_run.get_solution('conv_mu+', mag)\n",
    "           + mceq_run.get_solution('conv_mu-', mag))\n",
    "\n",
    "# _pr means prompt (the mother of the muon had a critical energy\n",
    "# higher or equal to that of a D meson. Includes all charm and direct resonance\n",
    "# contribution)\n",
    "mu_pr = (mceq_run.get_solution('pr_mu+', mag)\n",
    "         + mceq_run.get_solution('pr_mu-', mag))\n",
    "\n",
    "# total means conventional + prompt\n",
    "mu_total = (mceq_run.get_solution('total_mu+', mag)\n",
    "            + mceq_run.get_solution('total_mu-', mag))\n",
    "\n",
    "# same meaning of prefixes for muon neutrinos as for muons\n",
    "numu_conv = (mceq_run.get_solution('conv_numu', mag)\n",
    "             + mceq_run.get_solution('conv_antinumu', mag))\n",
    "\n",
    "numu_pr = (mceq_run.get_solution('pr_numu', mag)\n",
    "           + mceq_run.get_solution('pr_antinumu', mag))\n",
    "\n",
    "numu_total = (mceq_run.get_solution('total_numu', mag)\n",
    "              + mceq_run.get_solution('total_antinumu', mag))\n",
    "\n",
    "# same meaning of prefixes for electron neutrinos as for muons\n",
    "nue_conv = (mceq_run.get_solution('conv_nue', mag)\n",
    "            + mceq_run.get_solution('conv_antinue', mag))\n",
    "\n",
    "nue_pr = (mceq_run.get_solution('pr_nue', mag)\n",
    "          + mceq_run.get_solution('pr_antinue', mag))\n",
    "\n",
    "nue_total = (mceq_run.get_solution('total_nue', mag)\n",
    "             + mceq_run.get_solution('total_antinue', mag))\n",
    "\n",
    "\n",
    "# since there are no conventional tau neutrinos, prompt=total\n",
    "nutau_total = (mceq_run.get_solution('total_nutau', mag)\n",
    "            + mceq_run.get_solution('total_antinutau', mag))\n",
    "nutau_pr = (mceq_run.get_solution('pr_nutau', mag)\n",
    "            + mceq_run.get_solution('pr_antinutau', mag))"
   ]
  },
  {
   "cell_type": "markdown",
   "metadata": {},
   "source": [
    "Plot using matplotlib\n",
    "----------------------"
   ]
  },
  {
   "cell_type": "code",
   "execution_count": 6,
   "metadata": {
    "collapsed": false
   },
   "outputs": [
    {
     "data": {
      "image/png": "[encoded data removed]",
      "text/plain": [
       "<matplotlib.figure.Figure at 0x1105fe390>"
      ]
     },
     "metadata": {},
     "output_type": "display_data"
    },
    {
     "data": {
      "image/png": "[encoded data removed]",
      "text/plain": [
       "<matplotlib.figure.Figure at 0x1190fc990>"
      ]
     },
     "metadata": {},
     "output_type": "display_data"
    },
    {
     "data": {
      "image/png": "[encoded data removed]",
      "text/plain": [
       "<matplotlib.figure.Figure at 0x10f8ea290>"
      ]
     },
     "metadata": {},
     "output_type": "display_data"
    },
    {
     "data": {
      "image/png": "[encoded data removed]",
      "text/plain": [
       "<matplotlib.figure.Figure at 0x10f716390>"
      ]
     },
     "metadata": {},
     "output_type": "display_data"
    }
   ],
   "source": [
    "# for pref, lab in [('numu_',r'\\nu_\\mu'), ('nue_',r'\\nu_e')]:\n",
    "\n",
    "#Muons\n",
    "plt.figure(figsize=(4.2, 3))\n",
    "plt.loglog(e_grid, mu_total, color='k', ls='-', lw=1.5)\n",
    "plt.loglog(e_grid, mu_conv, ls='-.', lw=1.5,\n",
    "           label=r'conventional $\\mu$')\n",
    "plt.loglog(e_grid, mu_pr, ls='--', lw=1.5, \n",
    "           label=r'prompt $\\mu$')\n",
    "plt.xlim(10,1e7)\n",
    "plt.ylim(1e-5,10)\n",
    "plt.xlabel(r\"$E_{\\mu}$ [GeV]\")\n",
    "plt.ylabel(r\"$\\Phi_{\\mu}$ (E/GeV)$^{\" + str(mag) +\" }$\" + \n",
    "           \"(cm$^{2}$ s sr GeV)$^{-1}$\")\n",
    "plt.legend(loc='upper right',frameon=False,numpoints=1,fontsize='medium')\n",
    "plt.tight_layout()\n",
    "\n",
    "#To save the plot use\n",
    "# plt.savefig('H3a_60_sib23c_whatever.pdf')\n",
    "\n",
    "#Muon neutrinos\n",
    "plt.figure(figsize=(4.2, 3))\n",
    "plt.loglog(e_grid, numu_total, color='k', ls='-', lw=1.5)\n",
    "plt.loglog(e_grid, numu_conv, ls='-.', lw=1.5,\n",
    "           label=r'conventional $\\nu_\\mu$')\n",
    "plt.loglog(e_grid, numu_pr, ls='--', lw=1.5, \n",
    "           label=r'prompt $\\nu_\\mu$')\n",
    "plt.xlim(10,1e7)\n",
    "plt.ylim(1e-5,10)\n",
    "plt.xlabel(r\"$E_{\\nu_\\mu}$ [GeV]\")\n",
    "plt.ylabel(r\"$\\Phi_{\\nu_\\mu}$ (E/GeV)$^{\" + str(mag) +\" }$\" + \n",
    "           \"(cm$^{2}$ s sr GeV)$^{-1}$\")\n",
    "plt.legend(loc='upper right',frameon=False,numpoints=1,fontsize='medium')\n",
    "plt.tight_layout()\n",
    "\n",
    "#Electron neutrinos\n",
    "plt.figure(figsize=(4.2, 3))\n",
    "plt.loglog(e_grid, nue_total, color='k', ls='-', lw=1.5)\n",
    "plt.loglog(e_grid, nue_conv, ls='-.', lw=1.5,\n",
    "           label=r'conventional $\\nu_e$')\n",
    "plt.loglog(e_grid, nue_pr, ls='--', lw=1.5, \n",
    "           label=r'prompt $\\nu_e$')\n",
    "plt.xlim(10,1e7)\n",
    "plt.ylim(1e-5,10)\n",
    "plt.xlabel(r\"$E_{\\nu_e}$ [GeV]\")\n",
    "plt.ylabel(r\"$\\Phi_{\\nu_e}$ (E/GeV)$^{\" + str(mag) +\" }$\" + \n",
    "           \"(cm$^{2}$ s sr GeV)$^{-1}$\")\n",
    "plt.legend(loc='upper right',frameon=False,numpoints=1,fontsize='medium')\n",
    "plt.tight_layout()\n",
    "\n",
    "#Tau neutrinos\n",
    "plt.figure(figsize=(4.2, 3))\n",
    "plt.loglog(e_grid, nutau_total, color='k', ls='-', lw=1.5)\n",
    "plt.loglog(e_grid, nutau_pr, ls='--', lw=1.5, \n",
    "           label=r'prompt $\\nu_\\tau$')\n",
    "plt.xlim(10,1e7)\n",
    "plt.ylim(1e-7,1e-2)\n",
    "plt.xlabel(r\"$E_{\\nu_\\tau}$ [GeV]\")\n",
    "plt.ylabel(r\"$\\Phi_{\\nu_\\tau}$ (E/GeV)$^{\" + str(mag) +\" }$\" + \n",
    "           \"(cm$^{2}$ s sr GeV)$^{-1}$\")\n",
    "plt.legend(loc='upper right',frameon=False,numpoints=1,fontsize='medium')\n",
    "plt.tight_layout()"
   ]
  },
  {
   "cell_type": "markdown",
   "metadata": {},
   "source": [
    "Save as in ASCII file for other types of processing\n",
    "-----------------------------------------------------\n",
    "\n",
    "The block below will save the results in an ASCII file for further processing."
   ]
  },
  {
   "cell_type": "code",
   "execution_count": null,
   "metadata": {
    "collapsed": true
   },
   "outputs": [],
   "source": [
    "np.savetxt(open('H3a_theta_60_sib23c.txt','w'),\n",
    "zip(e_grid, \n",
    "    mu_conv,mu_pr,mu_total,\n",
    "    numu_conv,numu_pr,numu_total,\n",
    "    nue_conv,nue_pr,nue_total,\n",
    "    nutau_pr),\n",
    "fmt='%6.5E',\n",
    "header=('lepton flux scaled with E**{0}. Order (E, mu_conv, mu_pr, mu_total, ' +\n",
    "        'numu_conv, numu_pr, numu_total, nue_conv, nue_pr, nue_total, ' +\n",
    "        'nutau_pr').format(mag)\n",
    ")"
   ]
  },
  {
   "cell_type": "code",
   "execution_count": null,
   "metadata": {
    "collapsed": true
   },
   "outputs": [],
   "source": []
  }
 ],
 "metadata": {
  "kernelspec": {
   "display_name": "Python 2",
   "language": "python",
   "name": "python2"
  },
  "language_info": {
   "codemirror_mode": {
    "name": "ipython",
    "version": 2
   },
   "file_extension": ".py",
   "mimetype": "text/x-python",
   "name": "python",
   "nbconvert_exporter": "python",
   "pygments_lexer": "ipython2",
   "version": "2.7.13"
  }
 },
 "nbformat": 4,
 "nbformat_minor": 1
}
